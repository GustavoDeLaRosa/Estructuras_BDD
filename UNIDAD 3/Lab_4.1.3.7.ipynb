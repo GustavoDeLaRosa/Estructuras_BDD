{
 "cells": [
  {
   "cell_type": "markdown",
   "metadata": {},
   "source": [
    "### Lab 4.1.3.7\n",
    "## Gustavo Adrian De La Rosa Simental"
   ]
  },
  {
   "cell_type": "code",
   "execution_count": 1,
   "metadata": {},
   "outputs": [
    {
     "name": "stdout",
     "output_type": "stream",
     "text": [
      "1900 2 ->OK\n",
      "2000 2 ->OK\n",
      "2016 1 ->OK\n",
      "1987 11 ->ERROR\n"
     ]
    }
   ],
   "source": [
    "def isYearLeap(Year):\n",
    "    if Year%4 != 0:\n",
    "        return(False)\n",
    "    elif Year%100 != 0:\n",
    "        return(True)\n",
    "    elif Year%400 != 0:\n",
    "        return(False)\n",
    "    else:\n",
    "        return(True)\n",
    "def DaysinMonth(Year, Month):\n",
    "    Monthdays = [31, 28, 31, 30, 31, 30, 31, 30, 31, 30, 31]\n",
    "    \n",
    "    if isYearLeap(Year) and Month == 2:\n",
    "        return 29\n",
    "    return Monthdays[Month-1]\n",
    "TestYears = [1900,2000,2016,1987]\n",
    "TestMonths = [2,2,1,11]\n",
    "TestResults = [28,29,31,30]\n",
    "for i in range(len(TestYears)):\n",
    "    TD = TestYears[i]\n",
    "    TM = TestMonths[i]\n",
    "    print(TD,TM, \"->\", end = \"\")\n",
    "    result = DaysinMonth(TD,TM)\n",
    "    if result == TestResults[i]:\n",
    "        print(\"OK\")\n",
    "    else:\n",
    "        print(\"ERROR\")"
   ]
  },
  {
   "cell_type": "code",
   "execution_count": null,
   "metadata": {},
   "outputs": [],
   "source": []
  }
 ],
 "metadata": {
  "kernelspec": {
   "display_name": "Python 3",
   "language": "python",
   "name": "python3"
  },
  "language_info": {
   "name": ""
  }
 },
 "nbformat": 4,
 "nbformat_minor": 4
}
