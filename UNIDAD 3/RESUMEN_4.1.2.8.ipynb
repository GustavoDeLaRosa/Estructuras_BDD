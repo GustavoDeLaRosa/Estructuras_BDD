{
 "cells": [
  {
   "cell_type": "markdown",
   "metadata": {},
   "source": [
    "### Resumen 4.1.2.8\n",
    "## Gustavo Adrian De La Rosa Simental"
   ]
  },
  {
   "cell_type": "code",
   "execution_count": 1,
   "metadata": {},
   "outputs": [
    {
     "name": "stdout",
     "output_type": "stream",
     "text": [
      "Hola Greg\n"
     ]
    }
   ],
   "source": [
    "# Funcion con un parametro\n",
    "def Hola(nombre):\n",
    "    print(\"Hola\", nombre)\n",
    "Hola(\"Greg\")"
   ]
  },
  {
   "cell_type": "code",
   "execution_count": 2,
   "metadata": {},
   "outputs": [
    {
     "name": "stdout",
     "output_type": "stream",
     "text": [
      "Hola Manuel\n",
      "Hola Gustavo\n"
     ]
    }
   ],
   "source": [
    "# Funcion con dos parametros\n",
    "def HolaTodos(nombre1, nombre2):\n",
    "    print(\"Hola\", nombre2)\n",
    "    print(\"Hola\", nombre1)\n",
    "HolaTodos(\"Gustavo\",\"Manuel\")"
   ]
  },
  {
   "cell_type": "code",
   "execution_count": 3,
   "metadata": {},
   "outputs": [
    {
     "name": "stdin",
     "output_type": "stream",
     "text": [
      "calle:  FRACC HUIZACHE 1\n",
      "codigo postal:  34160\n",
      "ciudad:  Durango\n"
     ]
    },
    {
     "name": "stdout",
     "output_type": "stream",
     "text": [
      "Tu direccion es: FRACC HUIZACHE 1 Durango 34160\n"
     ]
    }
   ],
   "source": [
    "# Funcion con tres parametros\n",
    "def direccion(calle, ciudad, codigopostal):\n",
    "    print(\"Tu direccion es:\", calle, ciudad, codigopostal)\n",
    "    \n",
    "c = input(\"calle: \")\n",
    "codp = input(\"codigo postal: \")\n",
    "cd = input(\"ciudad: \")\n",
    "\n",
    "direccion(c,cd,codp)"
   ]
  },
  {
   "cell_type": "code",
   "execution_count": 4,
   "metadata": {},
   "outputs": [
    {
     "name": "stdout",
     "output_type": "stream",
     "text": [
      "3\n",
      "-3\n",
      "3\n",
      "3\n",
      "3\n",
      "3\n"
     ]
    }
   ],
   "source": [
    "# Ejemplo 1.- Orden de los parametros relevantes\n",
    "def resta(a, b):\n",
    "    print(a - b)\n",
    "resta(5,2)  # salida= 3\n",
    "resta(2,5)  # salida= -3\n",
    "\n",
    "# Ejemplo 2.- Orden de los argumentos irrelevantes\n",
    "def resta(a,b):\n",
    "    print(a-b)\n",
    "resta(a=5, b=2)   #salida= 3\n",
    "resta(b=2, a=5)   #salida= 3\n",
    "\n",
    "# Ejemplo 3.- Mezcla de argumentos posicionales y con palabras clave\n",
    "def resta(a,b):\n",
    "    print(a - b)\n",
    "resta(5, b=2)   #salida= 3\n",
    "resta(5,2)      #salida= 3"
   ]
  },
  {
   "cell_type": "code",
   "execution_count": 7,
   "metadata": {},
   "outputs": [
    {
     "name": "stdout",
     "output_type": "stream",
     "text": [
      "Gustavo De La Rosa\n",
      "Adrian De La Rosa\n"
     ]
    }
   ],
   "source": [
    "# Asignar valores predefinidos a los argumentos\n",
    "def nombre(nombre, apellido= \"De La Rosa\"):\n",
    "    print(nombre, apellido)\n",
    "nombre(\"Gustavo\")    # Salida= Dylan Reyes\n",
    "nombre(\"Adrian\", \"De La Rosa\")   # Salida Jovani Rendon (El argumento de la palabra clave es reeplazado por \"Rendon\""
   ]
  },
  {
   "cell_type": "code",
   "execution_count": 8,
   "metadata": {},
   "outputs": [
    {
     "name": "stdout",
     "output_type": "stream",
     "text": [
      "Mi nombre es:  Bond. James Bond.\n"
     ]
    }
   ],
   "source": [
    "def intro(a=\"James Bond\", b=\"Bond\"):\n",
    "    print(\"Mi nombre es: \", b + \".\", a + \".\")\n",
    "intro()"
   ]
  },
  {
   "cell_type": "code",
   "execution_count": 9,
   "metadata": {},
   "outputs": [
    {
     "name": "stdout",
     "output_type": "stream",
     "text": [
      "Mi nombre es:  Gustavo De La Rosa. Matheus Uribe.\n"
     ]
    }
   ],
   "source": [
    "def intro(a= \"Matheus Uribe\", b=\"Gomez\"):\n",
    "    print(\"Mi nombre es: \", b + \".\", a + \".\")\n",
    "intro(b=\"Gustavo De La Rosa\")"
   ]
  },
  {
   "cell_type": "code",
   "execution_count": 10,
   "metadata": {},
   "outputs": [
    {
     "name": "stdout",
     "output_type": "stream",
     "text": [
      "Mi nombre es:  Uribe. Gustavo.\n"
     ]
    }
   ],
   "source": [
    "def intro(a, b=\"Uribe\"):\n",
    "    print(\"Mi nombre es: \", b + \".\", a + \".\")\n",
    "intro(\"Gustavo\")"
   ]
  },
  {
   "cell_type": "code",
   "execution_count": null,
   "metadata": {},
   "outputs": [],
   "source": []
  }
 ],
 "metadata": {
  "kernelspec": {
   "display_name": "Python 3",
   "language": "python",
   "name": "python3"
  },
  "language_info": {
   "codemirror_mode": {
    "name": "ipython",
    "version": 3
   },
   "file_extension": ".py",
   "mimetype": "text/x-python",
   "name": "python",
   "nbconvert_exporter": "python",
   "pygments_lexer": "ipython3",
   "version": "3.8.3"
  }
 },
 "nbformat": 4,
 "nbformat_minor": 4
}
