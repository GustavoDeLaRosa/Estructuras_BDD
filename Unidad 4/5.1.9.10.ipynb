{
 "cells": [
  {
   "cell_type": "markdown",
   "metadata": {},
   "source": [
    "## Gustavo De La Rosa"
   ]
  },
  {
   "cell_type": "code",
   "execution_count": 1,
   "metadata": {},
   "outputs": [
    {
     "name": "stdout",
     "output_type": "stream",
     "text": [
      "[tau ]\n"
     ]
    }
   ],
   "source": [
    "# Demostración del método the lstrip()\n",
    "print(\"[\" + \" tau \".lstrip() + \"]\")\n"
   ]
  },
  {
   "cell_type": "code",
   "execution_count": 2,
   "metadata": {},
   "outputs": [
    {
     "name": "stdout",
     "output_type": "stream",
     "text": [
      "cisco.com\n"
     ]
    }
   ],
   "source": [
    "\n",
    "# El método con un parámetro lstrip() hace lo mismo que su versión sin parámetros, \n",
    "# pero elimina todos los caracteres incluidos en el argumento (una cadena), no solo espacios en blanco:\n",
    "\n",
    "print(\"www.cisco.com\".lstrip(\"w.\"))"
   ]
  },
  {
   "cell_type": "code",
   "execution_count": 3,
   "metadata": {},
   "outputs": [
    {
     "name": "stdout",
     "output_type": "stream",
     "text": [
      "pythoninstitute.org\n"
     ]
    }
   ],
   "source": [
    "# ¿Sorprendido?\n",
    "\n",
    "print(\"pythoninstitute.org\".lstrip(\".org\"))"
   ]
  },
  {
   "cell_type": "code",
   "execution_count": null,
   "metadata": {},
   "outputs": [],
   "source": []
  }
 ],
 "metadata": {
  "kernelspec": {
   "display_name": "Python 3",
   "language": "python",
   "name": "python3"
  },
  "language_info": {
   "codemirror_mode": {
    "name": "ipython",
    "version": 3
   },
   "file_extension": ".py",
   "mimetype": "text/x-python",
   "name": "python",
   "nbconvert_exporter": "python",
   "pygments_lexer": "ipython3",
   "version": "3.8.3"
  }
 },
 "nbformat": 4,
 "nbformat_minor": 4
}
