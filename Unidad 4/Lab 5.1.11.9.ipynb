{
 "cells": [
  {
   "cell_type": "markdown",
   "metadata": {},
   "source": [
    "## Gustavo Adrian De La Rosa Simental\n",
    "# Lab 5.1.11.9"
   ]
  },
  {
   "cell_type": "code",
   "execution_count": 1,
   "metadata": {},
   "outputs": [
    {
     "name": "stdin",
     "output_type": "stream",
     "text": [
      "Ingresa tu fecha de cumpleaños en digitos:  12112000\n"
     ]
    },
    {
     "name": "stdout",
     "output_type": "stream",
     "text": [
      "7\n"
     ]
    }
   ],
   "source": [
    "def digitoDeLaVida(x):\n",
    "    suma = 0\n",
    "    # Ciclo para sumar los números ingresados\n",
    "    while x:\n",
    "        suma += x % 10\n",
    "        x //= 10\n",
    "    \n",
    "    # El digito no debe resultar mayor a 9\n",
    "    if suma > 9:\n",
    "        return digitoDeLaVida(suma)\n",
    "\n",
    "    return suma\n",
    "\n",
    "x = int(input(\"Ingresa tu fecha de cumpleaños en digitos: \"))\n",
    "\n",
    "print(digitoDeLaVida(x))"
   ]
  },
  {
   "cell_type": "code",
   "execution_count": null,
   "metadata": {},
   "outputs": [],
   "source": []
  }
 ],
 "metadata": {
  "kernelspec": {
   "display_name": "Python 3",
   "language": "python",
   "name": "python3"
  },
  "language_info": {
   "codemirror_mode": {
    "name": "ipython",
    "version": 3
   },
   "file_extension": ".py",
   "mimetype": "text/x-python",
   "name": "python",
   "nbconvert_exporter": "python",
   "pygments_lexer": "ipython3",
   "version": "3.8.3"
  }
 },
 "nbformat": 4,
 "nbformat_minor": 4
}
