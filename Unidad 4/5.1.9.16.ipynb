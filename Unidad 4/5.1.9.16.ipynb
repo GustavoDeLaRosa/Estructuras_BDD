{
 "cells": [
  {
   "cell_type": "markdown",
   "metadata": {},
   "source": [
    "## Gustavo De La Rosa"
   ]
  },
  {
   "cell_type": "markdown",
   "metadata": {},
   "source": [
    "## METODO SWAPCASE"
   ]
  },
  {
   "cell_type": "code",
   "execution_count": 1,
   "metadata": {},
   "outputs": [
    {
     "name": "stdout",
     "output_type": "stream",
     "text": [
      "mI SUEÑO ES dEMACIADO GRANDE COMO PARA ESTAR DURMIENDO.\n",
      "\n"
     ]
    }
   ],
   "source": [
    "''' El método swapcase() crea una nueva cadena intercambiando todas las letras\n",
    "los caracteres en mayúscula se convierten en minúsculas y viceversa. '''\n",
    "\n",
    "# Demostración del método swapcase()\n",
    "print(\"Mi sueño es Demaciado grande como para estar durmiendo.\".swapcase())\n",
    "\n",
    "print()"
   ]
  },
  {
   "cell_type": "markdown",
   "metadata": {},
   "source": [
    "## Metodo Title"
   ]
  },
  {
   "cell_type": "code",
   "execution_count": 2,
   "metadata": {},
   "outputs": [
    {
     "name": "stdout",
     "output_type": "stream",
     "text": [
      "Mi Sueño Es Demaciado Grande Como Para Estar Durmiendo. Parte 1.\n",
      "\n"
     ]
    }
   ],
   "source": [
    "''' El método title() realiza una función algo similar cambia la primera letra de cada palabra a mayúsculas, \n",
    "convirtiendo todas las demás a minúsculas. '''\n",
    "\n",
    "# Demostración del método title()\n",
    "print(\"Mi sueño es Demaciado grande como para estar durmiendo. Parte 1.\".title())\n",
    "\n",
    "print()"
   ]
  },
  {
   "cell_type": "markdown",
   "metadata": {},
   "source": [
    "## METODO UPPER"
   ]
  },
  {
   "cell_type": "code",
   "execution_count": 3,
   "metadata": {},
   "outputs": [
    {
     "name": "stdout",
     "output_type": "stream",
     "text": [
      "MI SUEÑO ES DEMACIADO GRANDE COMO PARA ESTAR DURMIENDO. PARTE 2.\n"
     ]
    }
   ],
   "source": [
    "''' El método upper() hace una copia de la cadena de origen, \n",
    "reemplaza todas las letras minúsculas con sus equivalentes en mayúsculas, y devuelve la cadena como resultado. '''\n",
    "\n",
    "# Demostración del método upper()\n",
    "print(\"Mi Sueño Es Demaciado Grande Como Para Estar Durmiendo. Parte 2.\".upper())"
   ]
  },
  {
   "cell_type": "code",
   "execution_count": null,
   "metadata": {},
   "outputs": [],
   "source": []
  }
 ],
 "metadata": {
  "kernelspec": {
   "display_name": "Python 3",
   "language": "python",
   "name": "python3"
  },
  "language_info": {
   "codemirror_mode": {
    "name": "ipython",
    "version": 3
   },
   "file_extension": ".py",
   "mimetype": "text/x-python",
   "name": "python",
   "nbconvert_exporter": "python",
   "pygments_lexer": "ipython3",
   "version": "3.8.3"
  }
 },
 "nbformat": 4,
 "nbformat_minor": 4
}
