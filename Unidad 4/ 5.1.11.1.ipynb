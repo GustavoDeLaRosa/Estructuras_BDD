{
 "cells": [
  {
   "cell_type": "markdown",
   "metadata": {},
   "source": [
    "## Gustavo Adrian De La Rosa Simental"
   ]
  },
  {
   "cell_type": "markdown",
   "metadata": {},
   "source": [
    "## MENSAJE CON EL CODIGO CESAR"
   ]
  },
  {
   "cell_type": "code",
   "execution_count": 1,
   "metadata": {},
   "outputs": [
    {
     "name": "stdin",
     "output_type": "stream",
     "text": [
      "Ingresa tu mensaje:  Dios Esta con Nosotros, pronto volveremos a clases presenciales  y vida normal\n"
     ]
    },
    {
     "name": "stdout",
     "output_type": "stream",
     "text": [
      "EJPTFTUBDPOOPTPUSPTQSPOUPWPMWFSFNPTBDMBTFTQSFTFODJBMFTZWJEBOPSNBM\n"
     ]
    }
   ],
   "source": [
    "#Veamos el código:\n",
    "\n",
    "#La linea 02: pide al usuario que ingrese un mensaje (sin cifrar) de una linea.\n",
    "#La linea 03: prepara una cadena para el mensaje cifrado (esta vacia por ahora).\n",
    "#La linea 04: inicia la iteracion a traves del mensaje.\n",
    "#La linea 05: si el caracter actual no es alfabetico.\n",
    "#La linea 06: ignoralo.\n",
    "#La linea 07: convierta la letra a mayusculas (es preferible hacerlo a ciegas, en lugar de verificar si es necesario o no).\n",
    "#La linea 08: obten el codigo de la letra e increméntalo en uno.\n",
    "#La linea 09: si el codigo resultante ha \"dejado\" el alfabeto latino (si es mayor que el codigo de la Z).\n",
    "#La linea 10:  cambialo al codigo de la A.\n",
    "#La linea 11: agrega el caracter recibido al final del mensaje cifrado.\n",
    "#La linea 13: imprime el cifrado.\n",
    "\n",
    "# Cifrado Cesar\n",
    "text = input(\"Ingresa tu mensaje: \")\n",
    "cifrado = ''\n",
    "for char in text:\n",
    "    if not char.isalpha():\n",
    "        continue\n",
    "    char = char.upper()\n",
    "    code = ord(char) + 1\n",
    "    if code > ord('Z'):\n",
    "        code = ord('A')\n",
    "    cifrado += chr(code)\n",
    "\n",
    "print(cifrado)"
   ]
  },
  {
   "cell_type": "code",
   "execution_count": null,
   "metadata": {},
   "outputs": [],
   "source": []
  }
 ],
 "metadata": {
  "kernelspec": {
   "display_name": "Python 3",
   "language": "python",
   "name": "python3"
  },
  "language_info": {
   "codemirror_mode": {
    "name": "ipython",
    "version": 3
   },
   "file_extension": ".py",
   "mimetype": "text/x-python",
   "name": "python",
   "nbconvert_exporter": "python",
   "pygments_lexer": "ipython3",
   "version": "3.8.3"
  }
 },
 "nbformat": 4,
 "nbformat_minor": 4
}
