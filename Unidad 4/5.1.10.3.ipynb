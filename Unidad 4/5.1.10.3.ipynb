{
 "cells": [
  {
   "cell_type": "markdown",
   "metadata": {},
   "source": [
    "## Gustavo Adrian De La Rosa Simental"
   ]
  },
  {
   "cell_type": "code",
   "execution_count": 1,
   "metadata": {},
   "outputs": [
    {
     "name": "stdout",
     "output_type": "stream",
     "text": [
      "['verde', 'cafe', 'negro', 'rosa', 'amarillo', 'blanco', 'azul', 'morado', 'gris']\n",
      "['amarillo', 'azul', 'blanco', 'cafe', 'gris', 'morado', 'negro', 'rosa', 'verde']\n",
      "\n"
     ]
    }
   ],
   "source": [
    "# Demostracion de la funcion sorted()\n",
    "firstGreek = ['verde', 'cafe', 'negro', 'rosa', 'amarillo', 'blanco', 'azul', 'morado', 'gris'] # En este caso se ordenaran por orden alfabetico\n",
    "firstGreek2 = sorted(firstGreek)\n",
    "\n",
    "print(firstGreek)\n",
    "print(firstGreek2)\n",
    "\n",
    "print()"
   ]
  },
  {
   "cell_type": "code",
   "execution_count": 2,
   "metadata": {},
   "outputs": [
    {
     "name": "stdout",
     "output_type": "stream",
     "text": [
      "['verde', 'cafe', 'negro', 'rosa', 'amarillo', 'blanco', 'azul', 'morado', 'gris']\n",
      "['amarillo', 'azul', 'blanco', 'cafe', 'gris', 'morado', 'negro', 'rosa', 'verde']\n"
     ]
    }
   ],
   "source": [
    "# Demostracion del metodo sort()\n",
    "secondGreek = ['verde', 'cafe', 'negro', 'rosa', 'amarillo', 'blanco', 'azul', 'morado', 'gris']\n",
    "print(secondGreek)\n",
    "\n",
    "secondGreek.sort()\n",
    "print(secondGreek)"
   ]
  },
  {
   "cell_type": "code",
   "execution_count": null,
   "metadata": {},
   "outputs": [],
   "source": []
  }
 ],
 "metadata": {
  "kernelspec": {
   "display_name": "Python 3",
   "language": "python",
   "name": "python3"
  },
  "language_info": {
   "codemirror_mode": {
    "name": "ipython",
    "version": 3
   },
   "file_extension": ".py",
   "mimetype": "text/x-python",
   "name": "python",
   "nbconvert_exporter": "python",
   "pygments_lexer": "ipython3",
   "version": "3.8.3"
  }
 },
 "nbformat": 4,
 "nbformat_minor": 4
}
